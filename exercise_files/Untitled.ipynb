{
 "cells": [
  {
   "cell_type": "markdown",
   "id": "34db22d3-26e2-4bdf-9038-3abcaa92a05e",
   "metadata": {},
   "source": [
    "# Some text\n",
    "## smaller title"
   ]
  },
  {
   "cell_type": "code",
   "execution_count": 1,
   "id": "3524f06d-dd41-4121-b61e-9b774541d8ee",
   "metadata": {},
   "outputs": [
    {
     "name": "stdout",
     "output_type": "stream",
     "text": [
      "doing some data scienc!\n"
     ]
    }
   ],
   "source": [
    "print('doing some data scienc!')"
   ]
  },
  {
   "cell_type": "code",
   "execution_count": null,
   "id": "18c137fc-3ea9-4098-a54c-1ff8301d8d16",
   "metadata": {},
   "outputs": [],
   "source": []
  }
 ],
 "metadata": {
  "kernelspec": {
   "display_name": "Python 3 (ipykernel)",
   "language": "python",
   "name": "python3"
  },
  "language_info": {
   "codemirror_mode": {
    "name": "ipython",
    "version": 3
   },
   "file_extension": ".py",
   "mimetype": "text/x-python",
   "name": "python",
   "nbconvert_exporter": "python",
   "pygments_lexer": "ipython3",
   "version": "3.12.4"
  }
 },
 "nbformat": 4,
 "nbformat_minor": 5
}
